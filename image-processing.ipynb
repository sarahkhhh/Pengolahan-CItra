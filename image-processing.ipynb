{
  "nbformat": 4,
  "nbformat_minor": 0,
  "metadata": {
    "colab": {
      "provenance": [],
      "authorship_tag": "ABX9TyMaRxRnrVGl42lZCvS+wF6g",
      "include_colab_link": true
    },
    "kernelspec": {
      "name": "python3",
      "display_name": "Python 3"
    },
    "language_info": {
      "name": "python"
    }
  },
  "cells": [
    {
      "cell_type": "markdown",
      "metadata": {
        "id": "view-in-github",
        "colab_type": "text"
      },
      "source": [
        "<a href=\"https://colab.research.google.com/github/sarahkhhh/Pengolahan-CItra/blob/main/image-processing.ipynb\" target=\"_parent\"><img src=\"https://colab.research.google.com/assets/colab-badge.svg\" alt=\"Open In Colab\"/></a>"
      ]
    },
    {
      "cell_type": "code",
      "source": [
        "import os\n",
        "import tensorflow as tf\n",
        "import cv2 as cv\n",
        "import matplotlib.pyplot as plt\n",
        "import numpy as np\n",
        "import math\n",
        "import pandas as pd\n",
        "from keras.preprocessing import image\n",
        "from google.colab.patches import cv2_imshow \n",
        "# for image display\n",
        "from matplotlib import pyplot as plt\n",
        "from google.colab import drive"
      ],
      "metadata": {
        "id": "rGi_xRQQmGhU"
      },
      "execution_count": 15,
      "outputs": []
    },
    {
      "cell_type": "code",
      "source": [
        "drive.mount(\"/content/drive\")\n",
        "!unzip \"./drive/My Drive/Colab Notebooks/data finger.zip\"\n",
        "!ls \"/content/train\"\n",
        "!ls \"/content/test\""
      ],
      "metadata": {
        "colab": {
          "base_uri": "https://localhost:8080/"
        },
        "id": "TiU6sV97o7cU",
        "outputId": "983d8012-b8b4-4a97-ea03-1fcd0e675f91"
      },
      "execution_count": 17,
      "outputs": [
        {
          "output_type": "stream",
          "name": "stdout",
          "text": [
            "Mounted at /content/drive\n",
            "unzip:  cannot find or open ./drive/My Drive/Colab Notebooks/data finger.zip, ./drive/My Drive/Colab Notebooks/data finger.zip.zip or ./drive/My Drive/Colab Notebooks/data finger.zip.ZIP.\n",
            "ls: cannot access '/content/train': No such file or directory\n",
            "ls: cannot access '/content/test': No such file or directory\n"
          ]
        }
      ]
    },
    {
      "cell_type": "code",
      "source": [
        "def visualize(original, grayscaled, edges, delates, contours):\n",
        " fig = plt.figure()\n",
        " plt.subplot(1,5,1)\n",
        " plt.imshow(original)\n",
        " plt.subplot(1,5,2)\n",
        " plt.imshow(grayscaled, cmap=\"gray\")\n",
        " plt.subplot(1,5,3)\n",
        " plt.imshow(edges, cmap=\"gray\")\n",
        " plt.subplot(1,5,4)\n",
        " plt.imshow(delates, cmap=\"gray\")\n",
        " plt.subplot(1,5,5)\n",
        " plt.contour(delates, cmap=\"gray\", origin=\"image\")"
      ],
      "metadata": {
        "id": "5jqSt2Krpu5Y"
      },
      "execution_count": 19,
      "outputs": []
    },
    {
      "cell_type": "code",
      "source": [
        "f1 = '/content/train'\n",
        "f2 = '/content/test'\n",
        "nt1 = sum([len(files) for _, _, files in os.walk(f1)])\n",
        "nt2 = sum([len(files) for _, _, files in os.walk(f2)])\n",
        "print(nt1, nt2)"
      ],
      "metadata": {
        "colab": {
          "base_uri": "https://localhost:8080/"
        },
        "id": "_sgxBMYcp1u1",
        "outputId": "32cee2e5-3d35-42f1-bdda-e323b925c8cc"
      },
      "execution_count": 20,
      "outputs": [
        {
          "output_type": "stream",
          "name": "stdout",
          "text": [
            "0 0\n"
          ]
        }
      ]
    },
    {
      "cell_type": "code",
      "source": [
        "f = open('/content/ekstraksiHu.csv', 'w')"
      ],
      "metadata": {
        "id": "yPDZm3vip6aP"
      },
      "execution_count": 21,
      "outputs": []
    },
    {
      "cell_type": "code",
      "source": [
        "t = os.listdir('/content/train')\n",
        "t2 = os.listdir('/content/train')\n",
        "i=0\n",
        "for each_image in t:\n",
        "  if each_image.endswith(\".png\"):\n",
        "    full_path = \"/content/train/\" + each_image\n",
        "img = cv.imread(full_path)\n",
        "img_blur = cv.GaussianBlur(img, (7, 7), 1)\n",
        "gray = cv.cvtColor(img_blur ,cv.IMREAD_GRAYSCALE)\n",
        "edge = cv.Canny(gray, 128, 128)\n",
        "kernel = np.ones((3))\n",
        "delate = cv.dilate(edge, kernel, iterations=1)\n",
        "contour = cv.findContours(delate,cv.RETR_TREE,\n",
        "cv.CHAIN_APPROX_SIMPLE) #berupa matrik\n",
        "cnt = cv.HuMoments(cv.moments(delate)).flatten()\n",
        "print(i, each_image,'rata-rata = ',sum(cnt,0)/7)\n",
        "visualize(img, tf.squeeze(gray), edge, delate)\n",
        "plt.show()\n",
        "i=i+1"
      ],
      "metadata": {
        "colab": {
          "base_uri": "https://localhost:8080/",
          "height": 236
        },
        "id": "Dn-dnX7pp_53",
        "outputId": "9b79e415-c1ab-4dd5-a0ec-657504865161"
      },
      "execution_count": 28,
      "outputs": [
        {
          "output_type": "error",
          "ename": "FileNotFoundError",
          "evalue": "ignored",
          "traceback": [
            "\u001b[0;31m---------------------------------------------------------------------------\u001b[0m",
            "\u001b[0;31mFileNotFoundError\u001b[0m                         Traceback (most recent call last)",
            "\u001b[0;32m<ipython-input-28-ec3b7be84469>\u001b[0m in \u001b[0;36m<module>\u001b[0;34m\u001b[0m\n\u001b[0;32m----> 1\u001b[0;31m \u001b[0mt\u001b[0m \u001b[0;34m=\u001b[0m \u001b[0mos\u001b[0m\u001b[0;34m.\u001b[0m\u001b[0mlistdir\u001b[0m\u001b[0;34m(\u001b[0m\u001b[0;34m'/content/train'\u001b[0m\u001b[0;34m)\u001b[0m\u001b[0;34m\u001b[0m\u001b[0;34m\u001b[0m\u001b[0m\n\u001b[0m\u001b[1;32m      2\u001b[0m \u001b[0mt2\u001b[0m \u001b[0;34m=\u001b[0m \u001b[0mos\u001b[0m\u001b[0;34m.\u001b[0m\u001b[0mlistdir\u001b[0m\u001b[0;34m(\u001b[0m\u001b[0;34m'/content/train'\u001b[0m\u001b[0;34m)\u001b[0m\u001b[0;34m\u001b[0m\u001b[0;34m\u001b[0m\u001b[0m\n\u001b[1;32m      3\u001b[0m \u001b[0mi\u001b[0m\u001b[0;34m=\u001b[0m\u001b[0;36m0\u001b[0m\u001b[0;34m\u001b[0m\u001b[0;34m\u001b[0m\u001b[0m\n\u001b[1;32m      4\u001b[0m \u001b[0;32mfor\u001b[0m \u001b[0meach_image\u001b[0m \u001b[0;32min\u001b[0m \u001b[0mt\u001b[0m\u001b[0;34m:\u001b[0m\u001b[0;34m\u001b[0m\u001b[0;34m\u001b[0m\u001b[0m\n\u001b[1;32m      5\u001b[0m   \u001b[0;32mif\u001b[0m \u001b[0meach_image\u001b[0m\u001b[0;34m.\u001b[0m\u001b[0mendswith\u001b[0m\u001b[0;34m(\u001b[0m\u001b[0;34m\".png\"\u001b[0m\u001b[0;34m)\u001b[0m\u001b[0;34m:\u001b[0m\u001b[0;34m\u001b[0m\u001b[0;34m\u001b[0m\u001b[0m\n",
            "\u001b[0;31mFileNotFoundError\u001b[0m: [Errno 2] No such file or directory: '/content/train'"
          ]
        }
      ]
    }
  ]
}